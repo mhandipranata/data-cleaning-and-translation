{
 "cells": [
  {
   "cell_type": "markdown",
   "metadata": {},
   "source": [
    "# Data Migration - Program A"
   ]
  },
  {
   "cell_type": "code",
   "execution_count": 1,
   "metadata": {},
   "outputs": [],
   "source": [
    "# Dependencies\n",
    "import pandas as pd\n",
    "import datetime as dt\n",
    "from datetime import date\n",
    "import warnings\n",
    "import numpy as np\n",
    "warnings.filterwarnings('ignore')"
   ]
  },
  {
   "cell_type": "markdown",
   "metadata": {},
   "source": [
    "## Prepare Data Migration for Patent Family"
   ]
  },
  {
   "cell_type": "code",
   "execution_count": null,
   "metadata": {},
   "outputs": [],
   "source": [
    "# READING DATA for Patent from Program A\n",
    "prg-A_patent_df = pd.read_excel(\"Program A_Sample Data for Patent.xlsx\", encoding = \"utf8\", dtype=str)\n",
    "prg-A_patent_df"
   ]
  },
  {
   "cell_type": "code",
   "execution_count": null,
   "metadata": {},
   "outputs": [],
   "source": [
    "# We want to validate values between Patent Family and Priority Application\n",
    "# Patent Family Format: [Patent Holder]_[Priority Application]\n",
    "# Example: \n",
    "# Patent Family: Disney_US2000-112233\n",
    "# Priority Application: US2000-112233\n",
    "\n",
    "# Extract separately patent holder and priority application in 'Patent Family' column\n",
    "fam = prg-A_patent_df['Patent Family']\n",
    "priority_app_fam = []\n",
    "\n",
    "for f in fam:\n",
    "    if \"_\" in f:\n",
    "        priority_app_fam.append(f.split(\"_\")[1])\n",
    "    else:\n",
    "        priority_app_fam.append(\"\")\n",
    "        \n",
    "prg-A_patent_df[\"Priority App_from Family\"] = priority_app_fam\n",
    "prg-A_patent_df[\"Priority App_from Family\"] = prg-A_patent_df[\"Priority App_from Family\"].str.strip()\n",
    "\n",
    "# Validate priority application we get from patent family is the same with values in 'Earliest Priority Application' column\n",
    "priority_app = prg-A_patent_df['Earliest Priority Application']\n",
    "\n",
    "prg-A_patent_df.loc[prg-A_patent_df['Priority App_from Family'] == priority_app, 'Validate_Priority App'] = 'YES'\n",
    "prg-A_patent_df.loc[prg-A_patent_df['Priority App_from Family'] != priority_app, 'Validate_Priority App'] = 'NO'\n",
    "\n",
    "diff_priority_app_index = prg-A_patent_df.index[prg-A_patent_df['Validate_Priority App'] == 'NO'].tolist()\n",
    "\n",
    "for i in diff_priority_app_index:\n",
    "    prg-A_patent_df['Earliest Priority Application'][i] = prg-A_patent_df['Priority App_from Family'][i]\n",
    "    print(prg-A_patent_df.iloc[i])"
   ]
  },
  {
   "cell_type": "code",
   "execution_count": null,
   "metadata": {},
   "outputs": [],
   "source": [
    "# Replace patent number \"20050873 (Superseded)\" with \"200500873 (Superseded)\"\n",
    "# prg-A_patent_df = prg-A_patent_df.replace([\"20050873 (Superseded)\"], \"200500873 (Superseded)\")\n",
    "# prg-A_patent_df = prg-A_patent_df.replace([\"ZA20050873 (Superseded)\"], \"ZA200500873 (Superseded)\")\n",
    "\n",
    "# Extract separately patent number and \"Superseded\" (if any) in 'Patent Number' column\n",
    "patent_no = prg-A_patent_df['Patent Number'].astype(str)\n",
    "patent_no_clean = []\n",
    "superseded = []\n",
    "\n",
    "for p in patent_no:\n",
    "    if \"(\" in p:\n",
    "        patent_no_clean.append(p.split(\"(\")[0])\n",
    "        superseded.append(p.split(\"(\")[1])\n",
    "    elif \"_\" in p:\n",
    "        patent_no_clean.append(p.split(\"_\")[0])\n",
    "        superseded.append(p.split(\"_\")[1])\n",
    "    else:\n",
    "        patent_no_clean.append(p)\n",
    "        superseded.append(\"\")\n",
    "        \n",
    "prg-A_patent_df[\"Patent Number_Clean\"] = patent_no_clean\n",
    "prg-A_patent_df[\"Patent Number_Clean\"] = prg-A_patent_df[\"Patent Number_Clean\"].str.strip()\n",
    "prg-A_patent_df[\"Superseded?\"] = superseded\n",
    "prg-A_patent_df[\"Superseded?\"] = prg-A_patent_df[\"Superseded?\"].str.replace(')','')\n",
    "prg-A_patent_df[\"Superseded?\"] = prg-A_patent_df[\"Superseded?\"].str.strip()\n",
    "\n",
    "# Clean the same for 'Country and Patent Number' column\n",
    "# Extract separately country & patent number and \"Superseded\" (if any) in 'Country and Patent Number' column\n",
    "CP_no = prg-A_patent_df['Country and Patent Number'].astype(str)\n",
    "CP_clean = []\n",
    "\n",
    "for cp in CP_no:\n",
    "    if \"(\" in cp:\n",
    "        CP_clean.append(cp.split(\"(\")[0])\n",
    "    elif \"_\" in cp:\n",
    "        CP_clean.append(cp.split(\"_\")[0])\n",
    "    else:\n",
    "        CP_clean.append(cp)\n",
    "        \n",
    "prg-A_patent_df[\"Country and Patent No_Clean\"] = CP_clean\n",
    "prg-A_patent_df[\"Country and Patent No_Clean\"] = prg-A_patent_df[\"Country and Patent No_Clean\"].str.strip()\n",
    "\n",
    "# The same cleaning for 'Parent Patent Number'\n",
    "# Extract separately parent patent number and \"Superseded\" (if any) in 'Parent Patent Number' column\n",
    "\n",
    "PP_no = prg-A_patent_df['Parent Patent Number'].astype(str)\n",
    "PP_clean = []\n",
    "PP_superseded = []\n",
    "\n",
    "for pp in PP_no:\n",
    "    if \"(\" in pp:\n",
    "        PP_clean.append(pp.split(\"(\")[0])\n",
    "        PP_superseded.append(pp.split(\"(\")[1])\n",
    "    elif \"_\" in pp:\n",
    "        PP_clean.append(pp.split(\"_\")[0])\n",
    "        PP_superseded.append(pp.split(\"_\")[1])\n",
    "    else:\n",
    "        PP_clean.append(pp)\n",
    "        PP_superseded.append(\"\")\n",
    "        \n",
    "prg-A_patent_df[\"Parent Patent No_Clean\"] = PP_clean\n",
    "prg-A_patent_df[\"Parent Patent No_Clean\"] = prg-A_patent_df[\"Parent Patent No_Clean\"].str.strip()\n",
    "prg-A_patent_df[\"Parent Patent Superseded?\"] = PP_superseded\n",
    "prg-A_patent_df[\"Parent Patent Superseded?\"] = prg-A_patent_df[\"Parent Patent Superseded?\"].str.replace(')','')\n",
    "prg-A_patent_df[\"Parent Patent Superseded?\"] = prg-A_patent_df[\"Parent Patent Superseded?\"].str.strip()\n",
    "prg-A_patent_df"
   ]
  },
  {
   "cell_type": "code",
   "execution_count": null,
   "metadata": {},
   "outputs": [],
   "source": [
    "# Validate each unique 'Earliest Priority Application' only has one unique 'Earliest Priority Date'\n",
    "priority_check = prg-A_patent_df.pivot_table(values='Earliest Priority Date', index='Earliest Priority Application', aggfunc=pd.Series.nunique)\n",
    "priority_check = priority_check.reset_index()\n",
    "# priority_check\n",
    "fix = list(priority_check.loc[priority_check['Earliest Priority Date'] > 1]['Earliest Priority Application'])\n",
    "for app in fix:\n",
    "    print(app)\n",
    "    print(prg-A_patent_df.loc[prg-A_patent_df['Earliest Priority Application'] == app]['Earliest Priority Date'])"
   ]
  },
  {
   "cell_type": "code",
   "execution_count": null,
   "metadata": {},
   "outputs": [],
   "source": [
    "# Replace and update the 'Earliest Priority Date'\n",
    "for i in range(0, len(prg-A_patent_df['Earliest Priority Application'])):\n",
    "    if prg-A_patent_df['Earliest Priority Application'][i] == 'KR2007-0109729' and prg-A_patent_df['Earliest Priority Date'][i] == '2009-10-30 00:00:00':\n",
    "        prg-A_patent_df['Earliest Priority Date'][i] = '2007-10-30 00:00:00'\n",
    "    elif prg-A_patent_df['Earliest Priority Application'][i] == 'SE1999-03552' and prg-A_patent_df['Earliest Priority Date'][i] == '1999-01-10 00:00:00':\n",
    "        prg-A_patent_df['Earliest Priority Date'][i] = '1999-10-01 00:00:00'\n",
    "    elif prg-A_patent_df['Earliest Priority Application'][i] == 'SE2000-04163' and prg-A_patent_df['Earliest Priority Date'][i] == '2002-07-04 00:00:00':\n",
    "        prg-A_patent_df['Earliest Priority Date'][i] = '2000-11-14 00:00:00'\n",
    "    elif prg-A_patent_df['Earliest Priority Application'][i] == 'SE2000-04187' and prg-A_patent_df['Earliest Priority Date'][i] == '2001-11-15 00:00:00':\n",
    "        prg-A_patent_df['Earliest Priority Date'][i] = '2000-11-15 00:00:00'\n",
    "    elif prg-A_patent_df['Earliest Priority Application'][i] == 'US2009-213593' and prg-A_patent_df['Earliest Priority Date'][i] == '2009-12-23 00:00:00':\n",
    "        prg-A_patent_df['Earliest Priority Date'][i] = '2009-06-23 00:00:00'\n",
    "    elif prg-A_patent_df['Earliest Priority Application'][i] == 'US2009-145223' and pd.isnull(prg-A_patent_df['Earliest Priority Date'][i]) == True:\n",
    "        prg-A_patent_df['Earliest Priority Date'][i] = '2009-01-16 00:00:00'\n",
    "\n",
    "# Re-checking each unique priority application only has one unique priority date\n",
    "priority_check_2 = prg-A_patent_df.pivot_table(values='Earliest Priority Date', index='Earliest Priority Application', aggfunc=pd.Series.nunique)\n",
    "priority_check_2 = priority_check_2.reset_index()\n",
    "check = list(priority_check_2.loc[priority_check_2['Earliest Priority Date'] > 1]['Earliest Priority Application'])\n",
    "check"
   ]
  },
  {
   "cell_type": "code",
   "execution_count": null,
   "metadata": {},
   "outputs": [],
   "source": [
    "prg-A_patent_df.loc[prg-A_patent_df['Earliest Priority Date'].isnull() == True]['Patent Family'].unique()"
   ]
  },
  {
   "cell_type": "code",
   "execution_count": null,
   "metadata": {},
   "outputs": [],
   "source": [
    "# Checking the all family information of child patents are the same as the family information of parent patents\n",
    "# Separately extract and filter parent/CEP patents and child/FC patents\n",
    "CEP_patent_df = prg-A_patent_df.loc[prg-A_patent_df['Parent Patent Number'].isnull() == True]\n",
    "FC_patent_df = prg-A_patent_df.loc[prg-A_patent_df['Parent Patent Number'].isnull() == False]\n",
    "\n",
    "CEP_patent_filtered_df = CEP_patent_df[['Patent: Matter Number','Patent Number_Clean','Primary Patent Country',\n",
    "                                       'Earliest Priority Application', 'Earliest Priority Date']]\n",
    "FC_patent_filtered_df = FC_patent_df[['Patent: Matter Number','Patent Number_Clean','Primary Patent Country',\n",
    "                                      'Earliest Priority Application', 'Earliest Priority Date',\n",
    "                                      'Parent Patent No_Clean','Parent Patent']]\n",
    "CEP_patent_filtered_df.columns = ['Matter Number_Parent','CEP_Patent Number_Clean','CEP_Primary Patent Country',\n",
    "                                  'CEP_Earliest Priority Application', 'CEP_Earliest Priority Date']\n",
    "FC_patent_filtered_df.columns = ['Matter Number','FC_Patent Number_Clean','FC_Primary Patent Country',\n",
    "                                 'FC_Earliest Priority Application', 'FC_Earliest Priority Date',\n",
    "                                 'FC_Parent Patent No_Clean','Matter Number_Parent']\n",
    "\n",
    "# Merge/Join both dataframes\n",
    "FC_PP_validation = pd.merge(FC_patent_filtered_df, CEP_patent_filtered_df, on='Matter Number_Parent', how='left')\n",
    "print(\"Vouched Patent: {}\".format(FC_patent_filtered_df.shape))\n",
    "print(\"Certified Patent: {}\".format(CEP_patent_filtered_df.shape))\n",
    "print(\"Merged Data: {}\".format(FC_PP_validation.shape))\n",
    "\n",
    "# Validate the family information between child and parent patents\n",
    "FC_priority_app = FC_PP_validation['FC_Earliest Priority Application']\n",
    "FC_priority_date = FC_PP_validation['FC_Earliest Priority Date']\n",
    "FC_PP = FC_PP_validation['FC_Parent Patent No_Clean']\n",
    "\n",
    "CEP_priority_app = FC_PP_validation['CEP_Earliest Priority Application']\n",
    "CEP_priority_date = FC_PP_validation['CEP_Earliest Priority Date']\n",
    "CEP_patent_no = FC_PP_validation['CEP_Patent Number_Clean']\n",
    "\n",
    "FC_PP_validation.loc[FC_PP == CEP_patent_no, 'Validate_FC-PP_Parent Patent No'] = 'YES'\n",
    "FC_PP_validation.loc[FC_PP != CEP_patent_no, 'Validate_FC-PP_Parent Patent No'] = 'NO'\n",
    "\n",
    "FC_PP_validation.loc[FC_priority_app == CEP_priority_app, 'Validate_FC-PP_Priority App'] = 'YES'\n",
    "FC_PP_validation.loc[FC_priority_app != CEP_priority_app, 'Validate_FC-PP_Priority App'] = 'NO'\n",
    "\n",
    "FC_PP_validation.loc[FC_priority_date == CEP_priority_date, 'Validate_FC-PP_Priority Date'] = 'YES'\n",
    "FC_PP_validation.loc[FC_priority_date != CEP_priority_date, 'Validate_FC-PP_Priority Date'] = 'NO'\n",
    "\n",
    "diff_PP_no = FC_PP_validation.loc[FC_PP_validation['Validate_FC-PP_Parent Patent No'] == 'NO']\n",
    "diff_priority_app = FC_PP_validation.loc[FC_PP_validation['Validate_FC-PP_Priority App'] == 'NO']\n",
    "diff_priority_date = FC_PP_validation.loc[FC_PP_validation['Validate_FC-PP_Priority Date'] == 'NO']\n",
    "\n",
    "print(diff_PP_no)\n",
    "print(diff_priority_app)\n",
    "print(diff_priority_date)"
   ]
  },
  {
   "cell_type": "code",
   "execution_count": null,
   "metadata": {},
   "outputs": [],
   "source": [
    "# Read Program A Patent List (Parent/CEP only) with PatBase Family ID\n",
    "prg-A_w_Patbase_ID_raw = pd.read_excel(\"prg-A with PatBase Family ID_23Aug2020.xlsx\", encoding = \"utf8\", dtype=str)\n",
    "additional_data_raw = pd.read_excel(\"additional-data.xlsx\", encoding = \"utf8\", dtype=str)\n",
    "# These files also contains Patent Number that needs to be updated \n",
    "\n",
    "# Filter and rename columns\n",
    "prg-A_w_Patbase_ID = prg-A_w_Patbase_ID_raw[['Patent Number','Patent Number (Need to Update)','PatBase Family ID']]\n",
    "prg-A_w_Patbase_ID.columns = ['Patent Number_Clean','Patent Number (Need to Update)','PatBase Family ID']\n",
    "\n",
    "additional_data_raw['Patent Number (Need to Update)'] = ''\n",
    "additional_data = additional_data_raw[['Patent Number','Patent Number (Need to Update)','PatBase Family']]\n",
    "additional_data.columns = ['Patent Number_Clean','Patent Number (Need to Update)','PatBase Family ID']\n",
    "\n",
    "comb_w_Patbase_ID = pd.concat([prg-A_w_Patbase_ID, additional_data])\n",
    "\n",
    "# Extract Parent/CEP and Child/FC Patents separately from prg-A_patent_df\n",
    "CEP_patent_df = prg-A_patent_df.loc[prg-A_patent_df['Parent Patent Number'].isnull() == True]\n",
    "FC_patent_df = prg-A_patent_df.loc[prg-A_patent_df['Parent Patent Number'].isnull() == False]\n",
    "\n",
    "# Merge prg-A patent data with PatBase Family ID separately (certified merge with patent number, vouched merge with parent patent number)\n",
    "# Certified\n",
    "CEP_patent_df = pd.merge(CEP_patent_df, comb_w_Patbase_ID, on='Patent Number_Clean', how='left')\n",
    "\n",
    "# Vouched\n",
    "prg-A_w_Patbase_ID_as_parent = comb_w_Patbase_ID[['Patent Number_Clean','Patent Number (Need to Update)','PatBase Family ID']]\n",
    "prg-A_w_Patbase_ID_as_parent.columns = ['Parent Patent No_Clean','Parent Patent Number (Need to Update)','PatBase Family ID']\n",
    "FC_patent_df = pd.merge(FC_patent_df, prg-A_w_Patbase_ID_as_parent, on='Parent Patent No_Clean', how='left')\n",
    "\n",
    "# Concat Certified and Vouched patent data \n",
    "prg-A_patent_concat = pd.concat([CEP_patent_df, FC_patent_df])\n",
    "prg-A_patent_concat"
   ]
  },
  {
   "cell_type": "code",
   "execution_count": null,
   "metadata": {},
   "outputs": [],
   "source": [
    "prg-A_patent_concat[prg-A_patent_concat[['Patent: Matter Number']].duplicated()==True]"
   ]
  },
  {
   "cell_type": "code",
   "execution_count": null,
   "metadata": {},
   "outputs": [],
   "source": [
    "prg-A_patent_concat.loc[prg-A_patent_concat['PatBase Family ID'].isnull()==True]"
   ]
  },
  {
   "cell_type": "code",
   "execution_count": null,
   "metadata": {},
   "outputs": [],
   "source": [
    "prg-A_patent_df = prg-A_patent_concat[['Patent Holder', 'Patent: Matter Number', 'Patent Number',\n",
    "                                   'Publication Number', 'Primary Patent Country',\n",
    "                                   'Patent Expiration Date', 'EA EP GC Counterparts', 'Patent Family',\n",
    "                                   'Earliest Priority Application', 'Earliest Priority Date',\n",
    "                                   'Wireless Innovation Partnership Group', 'Patent Status',\n",
    "                                   'Joint Ownership Percentage', 'Country and Patent Number',\n",
    "                                   'Essentiality Status', 'Parent Patent Number', 'Parent Patent',\n",
    "                                   'Patent: ID', 'Priority App_from Family', 'Validate_Priority App',\n",
    "                                   'Patent Number_Clean', 'Superseded?', 'Country and Patent No_Clean',\n",
    "                                   'Parent Patent No_Clean', 'Parent Patent Superseded?',\n",
    "                                   'PatBase Family ID', 'Patent Number (Need to Update)','Pool Exit Date']]\n",
    "prg-A_patent_df = prg-A_patent_df.reset_index(drop=True)\n",
    "prg-A_patent_df"
   ]
  },
  {
   "cell_type": "code",
   "execution_count": null,
   "metadata": {},
   "outputs": [],
   "source": [
    "# Validate unique priority application extracted from certified df is the same as extracted from all prg-A patent df\n",
    "priority_app_from_ALL = prg-A_patent_df['Earliest Priority Application'].unique()\n",
    "print(len(priority_app_from_ALL))\n",
    "priority_app_from_CEP = CEP_patent_df['Earliest Priority Application'].unique()\n",
    "print(len(priority_app_from_CEP))"
   ]
  },
  {
   "cell_type": "code",
   "execution_count": null,
   "metadata": {},
   "outputs": [],
   "source": [
    "# Double check each Earliest Priority Application is associated to one unique PatBase Family ID\n",
    "patbase_fam_check = prg-A_patent_df.pivot_table(values='PatBase Family ID', index='Earliest Priority Application', aggfunc=pd.Series.nunique)\n",
    "patbase_fam_check = patbase_fam_check.reset_index()\n",
    "\n",
    "patbase_fam_fix = list(patbase_fam_check.loc[patbase_fam_check['PatBase Family ID'] > 1]['Earliest Priority Application'])\n",
    "patbase_fam_fix"
   ]
  },
  {
   "cell_type": "code",
   "execution_count": null,
   "metadata": {},
   "outputs": [],
   "source": [
    "prg-A_patent_df.columns"
   ]
  },
  {
   "cell_type": "code",
   "execution_count": null,
   "metadata": {},
   "outputs": [],
   "source": [
    "# Filter prg-A data with Family information\n",
    "prg-A_priority_info = prg-A_patent_df[['Earliest Priority Application_Updated', 'Patent Family', 'Earliest Priority Date', 'PatBase Family ID']]\n",
    "prg-A_priority_info.columns = ['Earliest Priority Application', 'Patent Family', 'Earliest Priority Date', 'PatBase Family ID']\n",
    "prg-A_priority_info"
   ]
  },
  {
   "cell_type": "code",
   "execution_count": null,
   "metadata": {},
   "outputs": [],
   "source": [
    "# Filter prg-A data and extract family and unique priority date using pivot_table\n",
    "prg-A_family_data = pd.pivot_table(data=prg-A_priority_info, index='Earliest Priority Application',\\\n",
    "                                 values=['Patent Family', 'Earliest Priority Date','PatBase Family ID'], aggfunc=pd.Series.unique)\n",
    "prg-A_family_data = prg-A_family_data.reset_index()\n",
    "\n",
    "# Rename the columns\n",
    "prg-A_family_data = prg-A_family_data[['Patent Family','Earliest Priority Application','PatBase Family ID','Earliest Priority Date']]\n",
    "prg-A_family_data.columns = ['Legacy LicAcc Patent Family', 'Earliest Priority Application', 'PatBase Patent Family ID', 'Priority Date']\n",
    "prg-A_family_data"
   ]
  },
  {
   "cell_type": "code",
   "execution_count": null,
   "metadata": {},
   "outputs": [],
   "source": [
    "# Ensure all earliest priority application has PatBase Family ID associated\n",
    "print(prg-A_family_data.loc[prg-A_family_data['PatBase Patent Family ID'] == \"\"])\n",
    "print(prg-A_family_data.loc[prg-A_family_data['PatBase Patent Family ID'].isnull() == True])"
   ]
  },
  {
   "cell_type": "code",
   "execution_count": null,
   "metadata": {},
   "outputs": [],
   "source": [
    "# Re-formatting before exporting to excel\n",
    "prg-A_family_data['Priority Date'] = pd.to_datetime(prg-A_family_data['Priority Date'], infer_datetime_format=True)\n",
    "prg-A_family_data['Priority Date'] = prg-A_family_data['Priority Date'].dt.strftime('%Y-%m-%d')\n",
    "prg-A_family_data"
   ]
  },
  {
   "cell_type": "code",
   "execution_count": null,
   "metadata": {},
   "outputs": [],
   "source": [
    "# EXPORT DATA (Patent Family - UNIQUE)\n",
    "prg-A_family_data.to_excel(\"Patent Project_prg-A_Patent Family_Data Migration_17Nov2020_v6.xlsx\", index=False)"
   ]
  },
  {
   "cell_type": "code",
   "execution_count": null,
   "metadata": {},
   "outputs": [],
   "source": [
    "# We also want to export NON UNIQUE Family Information\n",
    "# Rearrange and Rename Columns\n",
    "prg-A_priority_info = prg-A_priority_info[['Patent Family','Earliest Priority Application','PatBase Family ID','Earliest Priority Date']]\n",
    "prg-A_priority_info.columns = ['Legacy LicAcc Patent Family', 'Earliest Priority Application', 'PatBase Patent Family ID', 'Priority Date']\n",
    "\n",
    "# Re-formatting before exporting to excel\n",
    "prg-A_priority_info['Priority Date'] = pd.to_datetime(prg-A_priority_info['Priority Date'], infer_datetime_format=True)\n",
    "prg-A_priority_info['Priority Date'] = prg-A_priority_info['Priority Date'].dt.strftime('%Y-%m-%d')\n",
    "prg-A_priority_info\n",
    "\n",
    "# EXPORT DATA (Patent Family - Separate Rows/NON UNIQUE)\n",
    "prg-A_priority_info.to_excel(\"Patent Project_prg-A_Patent Family-Separate Rows_Data Migration_17Nov2020_v2.xlsx\", index=False)"
   ]
  },
  {
   "cell_type": "markdown",
   "metadata": {},
   "source": [
    "## Prepare Data Migration for Patent "
   ]
  },
  {
   "cell_type": "code",
   "execution_count": null,
   "metadata": {},
   "outputs": [],
   "source": [
    "prg-A_patent_df.columns"
   ]
  },
  {
   "cell_type": "code",
   "execution_count": null,
   "metadata": {},
   "outputs": [],
   "source": [
    "# Validate each unique patent number only has one unique expiration date\n",
    "expiration_check = prg-A_patent_df.pivot_table(values='Patent Expiration Date', index='Patent Number_Clean', aggfunc=pd.Series.nunique)\n",
    "expiration_check = expiration_check.reset_index()\n",
    "exp_fix = list(expiration_check.loc[expiration_check['Patent Expiration Date'] > 1]['Patent Number_Clean'])\n",
    "exp_fix"
   ]
  },
  {
   "cell_type": "code",
   "execution_count": null,
   "metadata": {},
   "outputs": [],
   "source": [
    "# Get the expiration date of currently active/expired patents\n",
    "patent = prg-A_patent_df['Patent Number_Clean']\n",
    "exp_date = prg-A_patent_df['Patent Expiration Date']\n",
    "patent_status = prg-A_patent_df['Patent Status'].astype(str)\n",
    "updated_exp_date = []\n",
    "patent_list = []\n",
    "\n",
    "for x in range(0, len(patent)):\n",
    "    if (prg-A_patent_df.iat[x,11] == 'Effective (Active)') or (prg-A_patent_df.iat[x,11] == 'Expired'):\n",
    "        updated_exp_date.append(prg-A_patent_df.iat[x,5])\n",
    "        patent_list.append(prg-A_patent_df.iat[x,20])\n",
    "    elif (prg-A_patent_df.iat[x,11] == 'Pending for Approval') and (prg-A_patent_df.iat[x,20] not in patent_list):\n",
    "        updated_exp_date.append(prg-A_patent_df.iat[x,5])\n",
    "        patent_list.append(prg-A_patent_df.iat[x,20])\n",
    "    elif (prg-A_patent_df.iat[x,11] == 'Superseded') and (prg-A_patent_df.iat[x,27] == '2020-09-30 00:00:00'):\n",
    "        updated_exp_date.append(prg-A_patent_df.iat[x,5])\n",
    "        patent_list.append(prg-A_patent_df.iat[x,20])\n",
    "\n",
    "patent_exp_date_df = pd.DataFrame({'Patent Number': patent_list, 'Updated Expiration Date': updated_exp_date})\n",
    "patent_exp_date_df"
   ]
  },
  {
   "cell_type": "code",
   "execution_count": null,
   "metadata": {},
   "outputs": [],
   "source": [
    "# Checking the same counts of unique patent number for original patent_df and patent_exp_date_df\n",
    "# len(prg-A_patent_df['Patent Number_Clean'].unique())\n",
    "# len(patent_exp_date_df[\"Patent Number\"].unique())\n",
    "\n",
    "# Check if all patent number in original patent_df exists in patent_exp_date_df\n",
    "for pn in prg-A_patent_df['Patent Number_Clean'].unique():\n",
    "    if pn not in patent_exp_date_df[\"Patent Number\"].unique():\n",
    "        print(pn)"
   ]
  },
  {
   "cell_type": "code",
   "execution_count": null,
   "metadata": {},
   "outputs": [],
   "source": [
    "# Same as original patent_df, check if each unique patent number in patent_exp_date_df, \n",
    "# also only has one unique expiration date\n",
    "expiration_check = patent_exp_date_df.pivot_table(values='Updated Expiration Date', index='Patent Number', aggfunc=pd.Series.nunique)\n",
    "expiration_check = expiration_check.reset_index()\n",
    "\n",
    "exp_fix = list(expiration_check.loc[expiration_check['Updated Expiration Date'] > 1]['Patent Number'])\n",
    "exp_fix"
   ]
  },
  {
   "cell_type": "code",
   "execution_count": null,
   "metadata": {},
   "outputs": [],
   "source": [
    "# Extract unique patent number and expiration date for each patent using pivot_table\n",
    "correct_exp_date = pd.pivot_table(data=patent_exp_date_df, index='Patent Number',\\\n",
    "                                 values='Updated Expiration Date', aggfunc=pd.Series.unique)\n",
    "correct_exp_date = correct_exp_date.reset_index()\n",
    "\n",
    "# Rename the columns\n",
    "correct_exp_date.columns = ['Patent Number_Clean', 'Correct Expiration Date']\n",
    "correct_exp_date"
   ]
  },
  {
   "cell_type": "code",
   "execution_count": null,
   "metadata": {},
   "outputs": [],
   "source": [
    "# Now merge original patent_df with the correct expiration date for each patents, so \n",
    "# each unique patent number only has one unique expiration date\n",
    "prg-A_patent_df = pd.merge(prg-A_patent_df, correct_exp_date, on=\"Patent Number_Clean\", how='left')\n",
    "prg-A_patent_df"
   ]
  },
  {
   "cell_type": "code",
   "execution_count": null,
   "metadata": {},
   "outputs": [],
   "source": [
    "# 10. Preparing Data for Patent Object Data\n",
    "# Replace comma in 'EA EP GC Counterparts' with semicolon and remove parenthesis \n",
    "prg-A_patent_df[\"EA EP GC Counterparts\"] = prg-A_patent_df[\"EA EP GC Counterparts\"].str.replace('(','')\n",
    "prg-A_patent_df[\"EA EP GC Counterparts\"] = prg-A_patent_df[\"EA EP GC Counterparts\"].str.replace(')','')\n",
    "prg-A_patent_df[\"EA EP GC Counterparts\"] = prg-A_patent_df[\"EA EP GC Counterparts\"].str.replace(',',';')\n",
    "prg-A_patent_df['Correct Expiration Date'] = pd.to_datetime(prg-A_patent_df['Correct Expiration Date'], infer_datetime_format=True)\n",
    "\n",
    "# Remove comma in 'AT&T Intellectual Property, LLC'\n",
    "prg-A_patent_df[\"Joint Ownership Percentage\"] = prg-A_patent_df[\"Joint Ownership Percentage\"].str.replace('AT&T Intellectual Property, LLC','AT&T Intellectual Property LLC')\n",
    "\n",
    "# Create another column for updated patent status values according to expiration date (Values: Issued or Expired or Application)\n",
    "exp_date = prg-A_patent_df['Correct Expiration Date']\n",
    "today_date = pd.datetime.now().date()\n",
    "patent_status_updated = []\n",
    "\n",
    "for d in exp_date:\n",
    "    if today_date < d:\n",
    "        patent_status_updated.append(\"Issued\")\n",
    "    elif today_date >= d:\n",
    "        patent_status_updated.append(\"Expired\")\n",
    "\n",
    "# Remove the last comma at the end of joint ownership percentage value\n",
    "# Example: 'Dolby International AB - 50.0%,Fraunhofer - 50.0%,'\n",
    "ownership_percentage = []\n",
    "for value in prg-A_patent_df[\"Joint Ownership Percentage\"]:\n",
    "    if (value.rfind(\",\")) == (len(value)-1):\n",
    "        ownership_percentage.append(value[:value.rfind(\",\")])\n",
    "    else:\n",
    "        ownership_percentage.append(value)        \n",
    "\n",
    "prg-A_patent_df[\"Patent Status_Updated\"] = patent_status_updated\n",
    "prg-A_patent_df[\"Application Number\"] = \"\"\n",
    "prg-A_patent_df[\"Last Patent Annuity Payment\"] = \"\"\n",
    "prg-A_patent_df[\"Last Patent Annuity Amount\"] = \"\"\n",
    "prg-A_patent_df[\"Note\"] = \"\"\n",
    "prg-A_patent_df[\"Joint Ownership Percentage_Updated\"] = ownership_percentage\n",
    "prg-A_patent_df.head()"
   ]
  },
  {
   "cell_type": "code",
   "execution_count": null,
   "metadata": {},
   "outputs": [],
   "source": [
    "print(len(prg-A_patent_df.loc[prg-A_patent_df[\"Patent Status\"] == \"Expired\"]))\n",
    "print(len(prg-A_patent_df.loc[prg-A_patent_df[\"Patent Status_Updated\"] == \"Expired\"]))\n",
    "print(prg-A_patent_df[\"Superseded?\"].unique())"
   ]
  },
  {
   "cell_type": "code",
   "execution_count": null,
   "metadata": {},
   "outputs": [],
   "source": [
    "prg-A_patent_df.loc[prg-A_patent_df[\"Patent Number_Updated\"].isnull() == True]"
   ]
  },
  {
   "cell_type": "code",
   "execution_count": null,
   "metadata": {},
   "outputs": [],
   "source": [
    "prg-A_patent_df.columns"
   ]
  },
  {
   "cell_type": "code",
   "execution_count": null,
   "metadata": {},
   "outputs": [],
   "source": [
    "# If patent number needs to be updated, we need to combine 'Patent Number_Clean' and 'Patent Number (Need to Update)'\n",
    "patent_no_updated = []\n",
    "country_patent_updated = []\n",
    "\n",
    "for p in range(0,len(AAC_patent_df['Patent Number_Clean'])):\n",
    "    if (pd.isnull(AAC_patent_df['Patent Number (Need to Update)'][p]) == False) and (AAC_patent_df['Patent Number (Need to Update)'][p] != ''):\n",
    "        patent_no_updated.append(AAC_patent_df['Patent Number (Need to Update)'][p])\n",
    "        country_patent_updated.append(AAC_patent_df['Primary Patent Country'][p]+AAC_patent_df['Patent Number (Need to Update)'][p])\n",
    "    else:\n",
    "        patent_no_updated.append(AAC_patent_df['Patent Number_Clean'][p])\n",
    "        country_patent_updated.append(AAC_patent_df['Country and Patent No_Clean'][p])\n",
    "AAC_patent_df[\"Patent Number_Updated\"] = patent_no_updated\n",
    "AAC_patent_df[\"Country and Patent No_Updated\"] = country_patent_updated\n",
    "AAC_patent_df"
   ]
  },
  {
   "cell_type": "code",
   "execution_count": null,
   "metadata": {},
   "outputs": [],
   "source": [
    "# Extract unique patent number and unique country with all values from necessary columns for Patent Objects\n",
    "prg-A_patent_data = pd.pivot_table(data=prg-A_patent_df, index=['Patent Number_Updated','Primary Patent Country'],\\\n",
    "                                 values=['Application Number', 'Publication Number', 'Correct Expiration Date',\n",
    "                                         'EA EP GC Counterparts', 'Earliest Priority Application_Updated', \n",
    "                                         'Wireless Innovation Partnership Group', 'Last Patent Annuity Payment',\n",
    "                                         'Last Patent Annuity Amount', 'Patent Status_Updated', 'Note'],\\\n",
    "                                 aggfunc=pd.Series.unique)\n",
    "prg-A_patent_data = prg-A_patent_data.reset_index()\n",
    "prg-A_patent_data"
   ]
  },
  {
   "cell_type": "code",
   "execution_count": null,
   "metadata": {},
   "outputs": [],
   "source": [
    "# Re-arranging the columns\n",
    "prg-A_patent_data[\"Wireless Innovation Partnership Group\"] = \"\"\n",
    "prg-A_patent_data[\"Patent Number (Licensor Format)\"] = \"\"\n",
    "prg-A_patent_data = prg-A_patent_data[['Patent Number_Updated', 'Application Number', 'Publication Number',\n",
    "                                   'Patent Number (Licensor Format)', 'Primary Patent Country', \n",
    "                                   'Correct Expiration Date', 'EA EP GC Counterparts',\n",
    "                                   'Earliest Priority Application_Updated', 'Wireless Innovation Partnership Group',\n",
    "                                   'Last Patent Annuity Payment', 'Last Patent Annuity Amount',  \n",
    "                                   'Patent Status_Updated', 'Note']]\n",
    "# Re-naming the columns\n",
    "prg-A_patent_data.columns = ['Patent Number', 'Application Number', 'Publication Number',\n",
    "                           'Patent Number (Licensor Format)', 'Jurisdiction', \n",
    "                           'Expiration Date', 'Validated Designated Country',\n",
    "                           'Patent Family Record', 'Wireless Innovation Partnership Group', \n",
    "                           'Last Patent Annuity Payment', 'Last Patent Annuity Amount', \n",
    "                           'Patent Status', 'Note']\n",
    "prg-A_patent_data"
   ]
  },
  {
   "cell_type": "code",
   "execution_count": null,
   "metadata": {},
   "outputs": [],
   "source": [
    "# Re-formatting before exporting\n",
    "prg-A_patent_data = prg-A_patent_data.fillna(\"\")\n",
    "prg-A_patent_data['Expiration Date'] = pd.to_datetime(prg-A_patent_data['Expiration Date'], infer_datetime_format=True)\n",
    "prg-A_patent_data['Expiration Date'] = prg-A_patent_data['Expiration Date'].dt.strftime('%Y-%m-%d')\n",
    "prg-A_patent_data\n",
    "\n",
    "# EXPORT DATA\n",
    "prg-A_patent_data.to_excel(\"Patent Project_prg-A_Patent_Data Migration_17Nov2020_v5.xlsx\", index=False)"
   ]
  },
  {
   "cell_type": "markdown",
   "metadata": {},
   "source": [
    "## Prepare Data Migration for Licensor Ownership Object"
   ]
  },
  {
   "cell_type": "code",
   "execution_count": null,
   "metadata": {},
   "outputs": [],
   "source": [
    "prg-A_patent_df.columns"
   ]
  },
  {
   "cell_type": "code",
   "execution_count": null,
   "metadata": {},
   "outputs": [],
   "source": [
    "prg-A_patent_df['Patent Holder'].unique()"
   ]
  },
  {
   "cell_type": "code",
   "execution_count": null,
   "metadata": {},
   "outputs": [],
   "source": [
    "# READING DATA\n",
    "licensor_opp = pd.read_excel('.xlsx', encoding = \"utf8\", dtype=str)\n",
    "prg-A_licensor_opp = licensor_opp.loc[licensor_opp['Program']=='prg-A']\n",
    "prg-A_licensor_opp = prg-A_licensor_opp.loc[prg-A_licensor_opp['Opportunity Name']!='prg-A Sony Licensor (Old)']\n",
    "prg-A_licensor_opp = prg-A_licensor_opp.reset_index(drop=True)\n",
    "prg-A_licensor_opp = prg-A_licensor_opp[['Account Name', 'Opportunity Name', 'Licensor Opportunity ID']]\n",
    "prg-A_licensor_opp.columns = ['Patent Holder', 'Licensor Opportunity', 'Licensor Opportunity ID']\n",
    "prg-A_licensor_opp"
   ]
  },
  {
   "cell_type": "code",
   "execution_count": null,
   "metadata": {},
   "outputs": [],
   "source": [
    "# Check if each Patent Holder only have one unique Licensor Opportunity\n",
    "prg-A_licensor_opp_check = prg-A_licensor_opp.pivot_table(values='Licensor Opportunity', index='Patent Holder', aggfunc=pd.Series.nunique)\n",
    "prg-A_licensor_opp_check = prg-A_licensor_opp_check.reset_index()\n",
    "check = list(prg-A_licensor_opp_check.loc[prg-A_licensor_opp_check['Licensor Opportunity'] > 1]['Patent Holder'])\n",
    "check"
   ]
  },
  {
   "cell_type": "code",
   "execution_count": null,
   "metadata": {},
   "outputs": [],
   "source": [
    "# Extract unique Licensor Opportunity by each Patent Holder\n",
    "prg-A_licensor_opp = pd.pivot_table(data=prg-A_licensor_opp, index='Patent Holder',\\\n",
    "                                  values=['Licensor Opportunity', 'Licensor Opportunity ID'], aggfunc=pd.Series.unique)\n",
    "prg-A_licensor_opp = prg-A_licensor_opp.reset_index()\n",
    "prg-A_licensor_opp"
   ]
  },
  {
   "cell_type": "code",
   "execution_count": null,
   "metadata": {},
   "outputs": [],
   "source": [
    "# Prepare data for Licensor Ownership Object\n",
    "# Filter dataframe for licensor ownership data\n",
    "prg-A_patent_filtered = prg-A_patent_df[['Patent: Matter Number', 'Patent Holder', 'Joint Ownership Percentage_Updated']]\n",
    "\n",
    "# There are some lines that have multiple ownership percentage in one line separated by comma\n",
    "# so we will separate them into different rows\n",
    "# prg-A_patent_ownership = pd.DataFrame(prg-A_patent_filtered['Joint Ownership Percentage_Updated'].str.split(',').tolist(), index=prg-A_patent_filtered['Patent: Matter Number']).stack()\n",
    "# prg-A_patent_ownership = prg-A_patent_ownership.reset_index([0, 'Patent: Matter Number'])\n",
    "# prg-A_patent_ownership.columns = ['Patent: Matter Number', 'Joint Ownership Percentage']\n",
    "prg-A_patent_ownership = prg-A_patent_filtered.assign(separate_percentage=prg-A_patent_filtered['Joint Ownership Percentage_Updated'].str.split(',')).explode('separate_percentage')\n",
    "\n",
    "# Extract the percetage only and put it in new column\n",
    "prg-A_patent_ownership[\"Licensor\"] = prg-A_patent_ownership['separate_percentage'].str.split(' - ').str[0]\n",
    "prg-A_patent_ownership[\"Ownership\"] = prg-A_patent_ownership['separate_percentage'].str.split(' - ').str[1]\n",
    "prg-A_patent_ownership[\"Ownership\"] = prg-A_patent_ownership[\"Ownership\"].str.replace(\"%\", \"\")\n",
    "prg-A_patent_ownership[\"Ownership\"] = prg-A_patent_ownership[\"Ownership\"].str.replace(\"33.0\", \"33.33\")\n",
    "prg-A_patent_ownership[\"Ownership\"] = prg-A_patent_ownership[\"Ownership\"].str.replace(\"34.0\", \"33.34\")\n",
    "prg-A_patent_ownership[\"Ownership\"] = prg-A_patent_ownership[\"Ownership\"].str.replace(\"50.0\", \"50\")\n",
    "\n",
    "# # Filter and extract the columns we need and re-name the columns\n",
    "prg-A_patent_ownership = prg-A_patent_ownership[['Patent: Matter Number', 'Licensor', 'Ownership']]\n",
    "prg-A_patent_ownership"
   ]
  },
  {
   "cell_type": "code",
   "execution_count": null,
   "metadata": {},
   "outputs": [],
   "source": [
    "prg-A_patent_ownership[\"Ownership\"].unique()"
   ]
  },
  {
   "cell_type": "code",
   "execution_count": null,
   "metadata": {},
   "outputs": [],
   "source": [
    "# Read the Account Name Mapping file\n",
    "account_mapping = pd.read_excel(\"Account Name Mapping.xlsx\", encoding = \"utf8\", dtype=str)\n",
    "account_mapping_filter = account_mapping[['Account Name in LicAcc','Account Name in SFDC']]\n",
    "account_mapping_filter['Account Name in LicAcc'] = account_mapping_filter['Account Name in LicAcc'].replace('AT&T Intellectual Property, LLC', 'AT&T Intellectual Property LLC')\n",
    "account_mapping_filter.columns = ['Licensor','Account Name in SFDC']\n",
    "\n",
    "# Merge Account Name Mapping to prg-A_patent_ownership\n",
    "prg-A_patent_ownership_updated = pd.merge(prg-A_patent_ownership, account_mapping_filter, on='Licensor', how='left')\n",
    "prg-A_patent_ownership_updated\n"
   ]
  },
  {
   "cell_type": "code",
   "execution_count": null,
   "metadata": {},
   "outputs": [],
   "source": [
    "prg-A_patent_ownership_updated[prg-A_patent_ownership_updated['Account Name in SFDC'].isnull()==True]"
   ]
  },
  {
   "cell_type": "code",
   "execution_count": null,
   "metadata": {},
   "outputs": [],
   "source": [
    "# Prepare data for Licensor Ownership Object\n",
    "# Filter dataframe and rename for licensor ownership data\n",
    "prg-A_patent_ownership_updated = prg-A_patent_ownership_updated[['Patent: Matter Number', 'Account Name in SFDC', 'Ownership']]\n",
    "prg-A_patent_ownership_updated.columns = ['Related Patent In Program Record', 'Patent Holder', 'Ownership']\n",
    "\n",
    "# Merge Licensor Opportunity data based on Patent Holder\n",
    "prg-A_patent_ownership_updated = pd.merge(prg-A_patent_ownership_updated, prg-A_licensor_opp, on='Patent Holder', how='left')\n",
    "prg-A_patent_ownership_updated"
   ]
  },
  {
   "cell_type": "code",
   "execution_count": null,
   "metadata": {},
   "outputs": [],
   "source": [
    "print(prg-A_patent_ownership_updated[prg-A_patent_ownership_updated['Licensor Opportunity']==''])\n",
    "print(prg-A_patent_ownership_updated[prg-A_patent_ownership_updated['Licensor Opportunity'].isnull()==True])"
   ]
  },
  {
   "cell_type": "code",
   "execution_count": null,
   "metadata": {},
   "outputs": [],
   "source": [
    "# Filter and extract the columns we need and re-name the columns\n",
    "prg-A_patent_ownership_updated = prg-A_patent_ownership_updated[['Related Patent In Program Record', 'Licensor Opportunity', 'Patent Holder', 'Ownership']]\n",
    "prg-A_patent_ownership_updated.columns = ['Related Patent In Program Record', 'Licensor', 'Account', 'Ownership']\n",
    "prg-A_patent_ownership_updated"
   ]
  },
  {
   "cell_type": "code",
   "execution_count": null,
   "metadata": {},
   "outputs": [],
   "source": [
    "# EXPORT DATA\n",
    "prg-A_patent_ownership_updated.to_excel(\"Patent Project_prg-A_Licensor Ownership_Data Migration_17Nov2020_v6.xlsx\", index=False)"
   ]
  },
  {
   "cell_type": "markdown",
   "metadata": {},
   "source": [
    "## Prepare Data Migration for Patent In Program Object"
   ]
  },
  {
   "cell_type": "code",
   "execution_count": null,
   "metadata": {},
   "outputs": [],
   "source": [
    "# READING DATA\n",
    "prg-A_PIP_raw = pd.read_excel(\"prg-A_Data for PIP_17Nov2020_v4.xlsx\", encoding = \"utf8\", dtype=str)\n",
    "prg-A_PIP_raw"
   ]
  },
  {
   "cell_type": "code",
   "execution_count": null,
   "metadata": {},
   "outputs": [],
   "source": [
    "prg-A_PIP_raw.loc[(prg-A_PIP_raw[\"Parent Patent Number\"].isnull()==True)&(prg-A_PIP_raw[\"Evaluated or Vouched\"]==\"Vouched\")]"
   ]
  },
  {
   "cell_type": "code",
   "execution_count": null,
   "metadata": {},
   "outputs": [],
   "source": [
    "prg-A_patent_df['Patent Status'].unique()\n",
    "prg-A_patent_df['Superseded?'].unique()"
   ]
  },
  {
   "cell_type": "code",
   "execution_count": null,
   "metadata": {},
   "outputs": [],
   "source": [
    "prg-A_patent_df.columns"
   ]
  },
  {
   "cell_type": "code",
   "execution_count": null,
   "metadata": {},
   "outputs": [],
   "source": [
    "# Filter the columns of prg-A PIP data and prg-A Patent data\n",
    "prg-A_PIP_df = prg-A_PIP_raw[['Program', 'Evaluated or Vouched', 'Patent Type',\n",
    "                          'Invention Group', 'Distinct Invention Result Date',\n",
    "                          'Patent Received Date', 'Vouch Notice Date', 'Pool Entry Date',\n",
    "                          'Pool Exit Date', 'Disposal Date', 'Proud Patent Start Date',\n",
    "                          'Proud Patent End Date', 'EPPRS X3 Point Start Date',\n",
    "                          'EPPRS X3 Point End Date', 'Essential Patent Notification Date',\n",
    "                          'Technologies', 'Section/Tools/Profile Details', 'Tools', 'Objects',\n",
    "                          'Essential Claim', 'Standard Sections', 'Essential Claim Type',\n",
    "                          'Evaluation Note', 'Notes', 'Patent: ID', 'Previous Matter Number']]\n",
    "\n",
    "prg-A_patent_filter_PIP = prg-A_patent_df[['Patent: Matter Number', 'Country and Patent No_Clean', 'Parent Patent No_Clean',\n",
    "                                       'Parent Patent', 'Patent Number_Clean', \n",
    "                                       'Patent Number_Updated', 'Country and Patent No_Updated',\n",
    "                                       'Primary Patent Country', 'Patent: ID', 'Superseded?', \n",
    "                                       'Patent Status', 'Patent Family', 'Earliest Priority Application_Updated']]"
   ]
  },
  {
   "cell_type": "code",
   "execution_count": null,
   "metadata": {},
   "outputs": [],
   "source": [
    "# Merge patent data and PIP patent data \n",
    "prg-A_PIP_df = pd.merge(prg-A_PIP_df, prg-A_patent_filter_PIP, on=\"Patent: ID\", how='inner')\n",
    "prg-A_PIP_df"
   ]
  },
  {
   "cell_type": "code",
   "execution_count": null,
   "metadata": {},
   "outputs": [],
   "source": [
    "# Prepare data for Patent In Program Data\n",
    "# Ensure patents, that have Vouch Notice Date, are the only ones with \"Vouched\" patent type\n",
    "# prg-A_PIP_df.loc[(prg-A_PIP_df[\"Vouch Notice Date\"].isnull() == False) & (prg-A_PIP_df['Parent Patent No_Clean'].isnull() == True)]\n",
    "# prg-A_PIP_df.loc[(prg-A_PIP_df[\"Vouch Notice Date\"].isnull() == False) & (prg-A_PIP_df['Evaluated or Vouched'] != \"Vouched\")]\n",
    "# prg-A_PIP_df.loc[(prg-A_PIP_df[\"Parent Patent No_Clean\"] != \"nan\") & (prg-A_PIP_df['Evaluated or Vouched'] != \"Vouched\")]\n",
    "\n",
    "# Map the \"Evaluated or Vouched\" to new Patent Type column\n",
    "eval_or_vouch = prg-A_PIP_df['Evaluated or Vouched']\n",
    "patent_type_updated = []\n",
    "\n",
    "for t in eval_or_vouch:\n",
    "    if t == \"Evaluated\":\n",
    "        patent_type_updated.append(\"Certified\")\n",
    "    elif t == \"Vouched\":\n",
    "        patent_type_updated.append(\"Vouched\")\n",
    "        \n",
    "received_date = prg-A_PIP_df['Patent Received Date']\n",
    "vouch_received_date = []\n",
    "\n",
    "for i in range(0, len(eval_or_vouch)):\n",
    "    if eval_or_vouch[i] == \"Vouched\":\n",
    "        vouch_received_date.append(received_date[i])\n",
    "    else:\n",
    "        vouch_received_date.append(\"\")\n",
    "\n",
    "prg-A_PIP_df[\"Technologies\"] = prg-A_PIP_df[\"Technologies\"].str.replace(',',';')    \n",
    "\n",
    "prg-A_PIP_df[\"Patent Type_Updated\"] = patent_type_updated\n",
    "prg-A_PIP_df[\"Vouch Received Date\"] = vouch_received_date\n",
    "prg-A_PIP_df.head()"
   ]
  },
  {
   "cell_type": "code",
   "execution_count": null,
   "metadata": {},
   "outputs": [],
   "source": [
    "# There are some Pool Entry Date that has a date from middle of quarter\n",
    "# Create function to get the start date of following quarter from a date\n",
    "def getnextQuarterStart(theDate=dt.date.today()):\n",
    "    m = ((round((theDate.month - 1) // 3) + 1) * 3) + 1\n",
    "    if m > 12:\n",
    "        return dt.date(theDate.year + 1, 1, 1)\n",
    "    else:\n",
    "        return dt.date(theDate.year, m, 1)"
   ]
  },
  {
   "cell_type": "code",
   "execution_count": null,
   "metadata": {},
   "outputs": [],
   "source": [
    "# Apply the function to Pool Entry Data Column so Pool Entry Date is always first day of quarter\n",
    "prg-A_PIP_df[\"Pool Entry Date\"] = pd.to_datetime(prg-A_PIP_df['Pool Entry Date'])\n",
    "\n",
    "entry_date = prg-A_PIP_df[\"Pool Entry Date\"]\n",
    "entry_date_updated = []\n",
    "\n",
    "for d in entry_date:\n",
    "    if (d.date().month in [1,4,7,10]) and (d.date().day == 1):\n",
    "        entry_date_updated.append(d.date())\n",
    "    else:\n",
    "        entry_date_updated.append(getnextQuarterStart(d.date()))\n",
    "prg-A_PIP_df[\"Pool Entry Date_Updated\"] = entry_date_updated\n",
    "prg-A_PIP_df"
   ]
  },
  {
   "cell_type": "code",
   "execution_count": null,
   "metadata": {},
   "outputs": [],
   "source": [
    "# Exclude patent that has Pool Entry Date > Pool Exit Date\n",
    "prg-A_PIP_df = prg-A_PIP_df.loc[prg-A_PIP_df['Pool Entry Date_Updated'] < prg-A_PIP_df[\"Pool Exit Date\"]]\n",
    "prg-A_PIP_df = prg-A_PIP_df.reset_index(drop=True)\n",
    "prg-A_PIP_df"
   ]
  },
  {
   "cell_type": "code",
   "execution_count": null,
   "metadata": {},
   "outputs": [],
   "source": [
    "# look for the min of 'Pool Entry Date' for each patent number\n",
    "# Filter prg-A data\n",
    "prg-A_data_filtered = prg-A_PIP_df[[\"Country and Patent No_Updated\", \"Pool Entry Date_Updated\"]]\n",
    "\n",
    "# Convert 'Pool Entry Date' to datetime\n",
    "prg-A_data_filtered[\"Pool Entry Date_Updated\"] = pd.to_datetime(prg-A_data_filtered[\"Pool Entry Date_Updated\"])\n",
    "\n",
    "# Extract min 'Pool Entry Date' by using groupby\n",
    "min_entry_date = prg-A_data_filtered.groupby([\"Country and Patent No_Updated\"], as_index=False).min()\n",
    "min_entry_date.columns = [\"Country and Patent No_Updated\", \"Earliest Pool Entry Date\"]\n",
    "min_entry_date"
   ]
  },
  {
   "cell_type": "code",
   "execution_count": null,
   "metadata": {},
   "outputs": [],
   "source": [
    "# Add Earliest Pool Entry Date to prg-A_PIP_df\n",
    "prg-A_PIP_df = prg-A_PIP_df.merge(min_entry_date, on='Country and Patent No_Updated', how='left')\n",
    "prg-A_PIP_df"
   ]
  },
  {
   "cell_type": "code",
   "execution_count": null,
   "metadata": {},
   "outputs": [],
   "source": [
    "prg-A_PIP_df[prg-A_PIP_df['Earliest Pool Entry Date'].isnull()==True]"
   ]
  },
  {
   "cell_type": "code",
   "execution_count": null,
   "metadata": {},
   "outputs": [],
   "source": [
    "# Create sequence number to assign the version of each matters based on Country and Patent No_Clean and Pool Entry Date (from smallest to largest)\n",
    "# First, sort data.\n",
    "prg-A_PIP_df[\"Pool Entry Date_Updated\"] = pd.to_datetime(prg-A_PIP_df[\"Pool Entry Date_Updated\"])\n",
    "prg-A_PIP_df[\"Earliest Pool Entry Date\"] = pd.to_datetime(prg-A_PIP_df[\"Earliest Pool Entry Date\"])\n",
    "prg-A_PIP_df = prg-A_PIP_df.sort_values(['Country and Patent No_Updated', 'Pool Entry Date_Updated'], ascending=[True, True])\n",
    "\n",
    "# Second, use cumcount() to number each item in each group from 0 to the length of that group -1. \n",
    "# Sequence number will be created in 'Version No.' column\n",
    "g = prg-A_PIP_df.groupby('Country and Patent No_Updated')\n",
    "prg-A_PIP_df['Version No.'] = g.cumcount() + 1\n",
    "prg-A_PIP_df"
   ]
  },
  {
   "cell_type": "code",
   "execution_count": null,
   "metadata": {},
   "outputs": [],
   "source": [
    "prg-A_PIP_df['Version No.'].unique()"
   ]
  },
  {
   "cell_type": "code",
   "execution_count": null,
   "metadata": {},
   "outputs": [],
   "source": [
    "# Reset Index\n",
    "prg-A_PIP_df = prg-A_PIP_df.reset_index(drop=True)\n",
    "prg-A_PIP_df"
   ]
  },
  {
   "cell_type": "code",
   "execution_count": null,
   "metadata": {},
   "outputs": [],
   "source": [
    "# Find patent evaluation matters in prg-A program from prg-B, prg-C, prg-A evaluations\n",
    "# Read prg-B, prg-C, prg-A patent evaluation excel data\n",
    "prg-A_eval = pd.read_excel(\"prg-A_Data for Evaluation.xlsx\", encoding = \"utf8\", dtype=str)\n",
    "prg-B_eval = pd.read_excel(\"prg-B_Data for Evaluation.xlsx\", encoding = \"utf8\", dtype=str)\n",
    "prg-C_eval = pd.read_excel(\"prg-C_Data for Evaluation.xlsx\", encoding = \"utf8\", dtype=str)\n",
    "\n",
    "# Filter MPEG-4 and prg-C patent evaluations data\n",
    "prg-B_eval = prg-B_eval.loc[(prg-B_eval[\"Patent Status\"] == \"Effective (Active)\") | \\\n",
    "                        (prg-B_eval[\"Patent Status\"] == \"Expired\") |\\\n",
    "                        (prg-B_eval[\"Patent Status\"] == \"Superseded\")]\n",
    "prg-C_eval = prg-C_eval.loc[prg-C_eval[\"Patent Status\"] == \"Effective (Active)\"]\n",
    "\n",
    "print(len(prg-B_eval))\n",
    "print(len(prg-C_eval))\n",
    "\n",
    "# prg-A Data Cleaning\n",
    "# Extract separately patent number and \"Superseded\" (if any) in 'Patent Number' column\n",
    "CP_no = prg-A_eval['Country and Patent Number'].astype(str)\n",
    "CP_clean = []\n",
    "\n",
    "for cp in CP_no:\n",
    "    if \"(\" in cp:\n",
    "        CP_clean.append(cp.split(\"(\")[0])\n",
    "    else:\n",
    "        CP_clean.append(cp)\n",
    "        \n",
    "prg-A_eval[\"Country and Patent No_Clean\"] = CP_clean\n",
    "prg-A_eval[\"Country and Patent No_Clean\"] = prg-A_eval[\"Country and Patent No_Clean\"].str.strip()\n",
    "prg-A_eval"
   ]
  },
  {
   "cell_type": "code",
   "execution_count": null,
   "metadata": {},
   "outputs": [],
   "source": [
    "# prg-B Data Cleaning\n",
    "# Extract separately patent number and \"Superseded\" (if any) in 'Patent Number' column\n",
    "patent_no = prg-B_eval['Patent Number'].astype(str)\n",
    "patent_no_clean = []\n",
    "superseded = []\n",
    "\n",
    "for p in patent_no:\n",
    "    if \"(\" in p:\n",
    "        patent_no_clean.append(p.split(\"(\")[0])\n",
    "        superseded.append(p.split(\"(\")[1])\n",
    "    elif \"_\" in p:\n",
    "        patent_no_clean.append(p.split(\"_\")[0])\n",
    "        superseded.append(p.split(\"_\")[1])\n",
    "    else:\n",
    "        patent_no_clean.append(p)\n",
    "        superseded.append(\"\")\n",
    "        \n",
    "prg-B_eval[\"Patent Number_Clean\"] = patent_no_clean\n",
    "prg-B_eval[\"Patent Number_Clean\"] = prg-B_eval[\"Patent Number_Clean\"].str.strip()\n",
    "prg-B_eval[\"Superseded?\"] = superseded\n",
    "prg-B_eval[\"Superseded?\"] = prg-B_eval[\"Superseded?\"].str.replace(')','')\n",
    "prg-B_eval[\"Superseded?\"] = prg-B_eval[\"Superseded?\"].str.strip()\n",
    "\n",
    "# Clean the same for Country and Patent Number\n",
    "CP_no = prg-B_eval['Country and Patent Number'].astype(str)\n",
    "CP_clean = []\n",
    "\n",
    "for cp in CP_no:\n",
    "    if \"(\" in cp:\n",
    "        CP_clean.append(cp.split(\"(\")[0])\n",
    "    elif \"_\" in cp:\n",
    "        CP_clean.append(cp.split(\"_\")[0])\n",
    "    else:\n",
    "        CP_clean.append(cp)\n",
    "        \n",
    "prg-B_eval[\"Country and Patent No_Clean\"] = CP_clean\n",
    "prg-B_eval[\"Country and Patent No_Clean\"] = prg-B_eval[\"Country and Patent No_Clean\"].str.strip()\n",
    "\n",
    "# prg-C Data Cleaning\n",
    "# Extract separately patent number and \"Superseded\" (if any) in 'Patent Number' column\n",
    "patent_no = prg-C_eval['Patent Number'].astype(str)\n",
    "patent_no_clean = []\n",
    "superseded = []\n",
    "\n",
    "for p in patent_no:\n",
    "    if \"(\" in p:\n",
    "        patent_no_clean.append(p.split(\"(\")[0])\n",
    "        superseded.append(p.split(\"(\")[1])\n",
    "    elif \"_\" in p:\n",
    "        patent_no_clean.append(p.split(\"_\")[0])\n",
    "        superseded.append(p.split(\"_\")[1])\n",
    "    else:\n",
    "        patent_no_clean.append(p)\n",
    "        superseded.append(\"\")\n",
    "        \n",
    "prg-C_eval[\"Patent Number_Clean\"] = patent_no_clean\n",
    "prg-C_eval[\"Patent Number_Clean\"] = prg-C_eval[\"Patent Number_Clean\"].str.strip()\n",
    "prg-C_eval[\"Superseded?\"] = superseded\n",
    "prg-C_eval[\"Superseded?\"] = prg-C_eval[\"Superseded?\"].str.replace(')','')\n",
    "prg-C_eval[\"Superseded?\"] = prg-C_eval[\"Superseded?\"].str.strip()\n",
    "\n",
    "# Clean the same for Country and Patent Number\n",
    "CP_no = prg-C_eval['Country and Patent Number'].astype(str)\n",
    "CP_clean = []\n",
    "\n",
    "for cp in CP_no:\n",
    "    if \"(\" in cp:\n",
    "        CP_clean.append(cp.split(\"(\")[0])\n",
    "    if \"_\" in cp:\n",
    "        CP_clean.append(cp.split(\"_\")[0])\n",
    "    else:\n",
    "        CP_clean.append(cp)\n",
    "        \n",
    "prg-C_eval[\"Country and Patent No_Clean\"] = CP_clean\n",
    "prg-C_eval[\"Country and Patent No_Clean\"] = prg-C_eval[\"Country and Patent No_Clean\"].str.strip()\n",
    "\n",
    "print(len(prg-B_eval[\"Country and Patent No_Clean\"].unique()))\n",
    "print(len(prg-C_eval[\"Country and Patent No_Clean\"].unique()))"
   ]
  }
 ],
 "metadata": {
  "kernelspec": {
   "display_name": "Python 3",
   "language": "python",
   "name": "python3"
  },
  "language_info": {
   "codemirror_mode": {
    "name": "ipython",
    "version": 3
   },
   "file_extension": ".py",
   "mimetype": "text/x-python",
   "name": "python",
   "nbconvert_exporter": "python",
   "pygments_lexer": "ipython3",
   "version": "3.7.4"
  }
 },
 "nbformat": 4,
 "nbformat_minor": 2
}
