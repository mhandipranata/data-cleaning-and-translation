{
 "cells": [
  {
   "cell_type": "markdown",
   "metadata": {},
   "source": [
    "# Data Migration - Program A"
   ]
  },
  {
   "cell_type": "code",
   "execution_count": 1,
   "metadata": {},
   "outputs": [],
   "source": [
    "# Dependencies\n",
    "import pandas as pd\n",
    "import datetime as dt\n",
    "from datetime import date\n",
    "import warnings\n",
    "import numpy as np\n",
    "warnings.filterwarnings('ignore')"
   ]
  },
  {
   "cell_type": "markdown",
   "metadata": {},
   "source": [
    "## Prepare Data Migration for Patent Family"
   ]
  },
  {
   "cell_type": "code",
   "execution_count": null,
   "metadata": {},
   "outputs": [],
   "source": [
    "# READING DATA for Patent from Program A\n",
    "prg-A_patent_df = pd.read_excel(\"Program A_Sample Data for Patent.xlsx\", encoding = \"utf8\", dtype=str)\n",
    "prg-A_patent_df"
   ]
  },
  {
   "cell_type": "code",
   "execution_count": null,
   "metadata": {},
   "outputs": [],
   "source": [
    "# We want to validate values between Patent Family and Priority Application\n",
    "# Patent Family Format: [Patent Holder]_[Priority Application]\n",
    "# Example: \n",
    "# Patent Family: Disney_US2000-112233\n",
    "# Priority Application: US2000-112233\n",
    "\n",
    "# Extract separately patent holder and priority application in 'Patent Family' column\n",
    "fam = prg-A_patent_df['Patent Family']\n",
    "priority_app_fam = []\n",
    "\n",
    "for f in fam:\n",
    "    if \"_\" in f:\n",
    "        priority_app_fam.append(f.split(\"_\")[1])\n",
    "    else:\n",
    "        priority_app_fam.append(\"\")\n",
    "        \n",
    "prg-A_patent_df[\"Priority App_from Family\"] = priority_app_fam\n",
    "prg-A_patent_df[\"Priority App_from Family\"] = prg-A_patent_df[\"Priority App_from Family\"].str.strip()\n",
    "\n",
    "# Validate priority application we get from patent family is the same with values in 'Earliest Priority Application' column\n",
    "priority_app = prg-A_patent_df['Earliest Priority Application']\n",
    "\n",
    "prg-A_patent_df.loc[prg-A_patent_df['Priority App_from Family'] == priority_app, 'Validate_Priority App'] = 'YES'\n",
    "prg-A_patent_df.loc[prg-A_patent_df['Priority App_from Family'] != priority_app, 'Validate_Priority App'] = 'NO'\n",
    "\n",
    "diff_priority_app_index = prg-A_patent_df.index[prg-A_patent_df['Validate_Priority App'] == 'NO'].tolist()\n",
    "\n",
    "for i in diff_priority_app_index:\n",
    "    prg-A_patent_df['Earliest Priority Application'][i] = prg-A_patent_df['Priority App_from Family'][i]\n",
    "    print(prg-A_patent_df.iloc[i])"
   ]
  },
  {
   "cell_type": "code",
   "execution_count": null,
   "metadata": {},
   "outputs": [],
   "source": [
    "# Validate each unique 'Earliest Priority Application' only has one unique 'Earliest Priority Date'\n",
    "priority_check = prg-A_patent_df.pivot_table(values='Earliest Priority Date', index='Earliest Priority Application', aggfunc=pd.Series.nunique)\n",
    "priority_check = priority_check.reset_index()\n",
    "# priority_check\n",
    "fix = list(priority_check.loc[priority_check['Earliest Priority Date'] > 1]['Earliest Priority Application'])\n",
    "for app in fix:\n",
    "    print(app)\n",
    "    print(prg-A_patent_df.loc[prg-A_patent_df['Earliest Priority Application'] == app]['Earliest Priority Date'])"
   ]
  },
  {
   "cell_type": "code",
   "execution_count": null,
   "metadata": {},
   "outputs": [],
   "source": [
    "# Replace and update the 'Earliest Priority Date'\n",
    "for i in range(0, len(prg-A_patent_df['Earliest Priority Application'])):\n",
    "    if prg-A_patent_df['Earliest Priority Application'][i] == 'KR2007-0109729' and prg-A_patent_df['Earliest Priority Date'][i] == '2009-10-30 00:00:00':\n",
    "        prg-A_patent_df['Earliest Priority Date'][i] = '2007-10-30 00:00:00'\n",
    "    elif prg-A_patent_df['Earliest Priority Application'][i] == 'SE1999-03552' and prg-A_patent_df['Earliest Priority Date'][i] == '1999-01-10 00:00:00':\n",
    "        prg-A_patent_df['Earliest Priority Date'][i] = '1999-10-01 00:00:00'\n",
    "    elif prg-A_patent_df['Earliest Priority Application'][i] == 'SE2000-04163' and prg-A_patent_df['Earliest Priority Date'][i] == '2002-07-04 00:00:00':\n",
    "        prg-A_patent_df['Earliest Priority Date'][i] = '2000-11-14 00:00:00'\n",
    "    elif prg-A_patent_df['Earliest Priority Application'][i] == 'SE2000-04187' and prg-A_patent_df['Earliest Priority Date'][i] == '2001-11-15 00:00:00':\n",
    "        prg-A_patent_df['Earliest Priority Date'][i] = '2000-11-15 00:00:00'\n",
    "    elif prg-A_patent_df['Earliest Priority Application'][i] == 'US2009-213593' and prg-A_patent_df['Earliest Priority Date'][i] == '2009-12-23 00:00:00':\n",
    "        prg-A_patent_df['Earliest Priority Date'][i] = '2009-06-23 00:00:00'\n",
    "    elif prg-A_patent_df['Earliest Priority Application'][i] == 'US2009-145223' and pd.isnull(prg-A_patent_df['Earliest Priority Date'][i]) == True:\n",
    "        prg-A_patent_df['Earliest Priority Date'][i] = '2009-01-16 00:00:00'\n",
    "\n",
    "# Re-checking each unique priority application only has one unique priority date\n",
    "priority_check_2 = prg-A_patent_df.pivot_table(values='Earliest Priority Date', index='Earliest Priority Application', aggfunc=pd.Series.nunique)\n",
    "priority_check_2 = priority_check_2.reset_index()\n",
    "check = list(priority_check_2.loc[priority_check_2['Earliest Priority Date'] > 1]['Earliest Priority Application'])\n",
    "check"
   ]
  },
  {
   "cell_type": "code",
   "execution_count": null,
   "metadata": {},
   "outputs": [],
   "source": [
    "prg-A_patent_df.loc[prg-A_patent_df['Earliest Priority Date'].isnull() == True]['Patent Family'].unique()"
   ]
  },
  {
   "cell_type": "code",
   "execution_count": null,
   "metadata": {},
   "outputs": [],
   "source": [
    "# Checking the all family information of child patents are the same as the family information of parent patents\n",
    "# Separately extract and filter patent/certified patents and child/vouched patents"
   ]
  }
 ],
 "metadata": {
  "kernelspec": {
   "display_name": "Python 3",
   "language": "python",
   "name": "python3"
  },
  "language_info": {
   "codemirror_mode": {
    "name": "ipython",
    "version": 3
   },
   "file_extension": ".py",
   "mimetype": "text/x-python",
   "name": "python",
   "nbconvert_exporter": "python",
   "pygments_lexer": "ipython3",
   "version": "3.7.4"
  }
 },
 "nbformat": 4,
 "nbformat_minor": 2
}
